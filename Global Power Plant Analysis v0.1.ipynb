{
 "cells": [
  {
   "cell_type": "code",
   "execution_count": 20,
   "id": "2afbc856",
   "metadata": {},
   "outputs": [],
   "source": [
    "rm\n",
    "library(data.table)\n",
    "library(ggplot2)\n",
    "library(maps)\n",
    "library(mapdata)\n",
    "library(dplyr)\n",
    "library(DataExplorer)"
   ]
  },
  {
   "cell_type": "markdown",
   "id": "cf4bb5ed",
   "metadata": {},
   "source": [
    "#### Reading Data"
   ]
  },
  {
   "cell_type": "code",
   "execution_count": 21,
   "id": "d98e9b6f",
   "metadata": {},
   "outputs": [],
   "source": [
    "df1 <- read.csv(\"global_power_plant_database.csv\")\n",
    "setDT(df1)"
   ]
  },
  {
   "cell_type": "code",
   "execution_count": 22,
   "id": "14c9bfe0",
   "metadata": {},
   "outputs": [
    {
     "data": {
      "text/html": [
       "34936"
      ],
      "text/latex": [
       "34936"
      ],
      "text/markdown": [
       "34936"
      ],
      "text/plain": [
       "[1] 34936"
      ]
     },
     "metadata": {},
     "output_type": "display_data"
    },
    {
     "data": {
      "text/html": [
       "36"
      ],
      "text/latex": [
       "36"
      ],
      "text/markdown": [
       "36"
      ],
      "text/plain": [
       "[1] 36"
      ]
     },
     "metadata": {},
     "output_type": "display_data"
    }
   ],
   "source": [
    "nrow(df1)\n",
    "length(df1)"
   ]
  },
  {
   "cell_type": "code",
   "execution_count": 23,
   "id": "c6f306ab",
   "metadata": {},
   "outputs": [],
   "source": [
    "df2 <- copy(df1)\n",
    "df2[is.na(df2)] <- 0"
   ]
  },
  {
   "cell_type": "code",
   "execution_count": 24,
   "id": "5bffdae3",
   "metadata": {},
   "outputs": [
    {
     "name": "stderr",
     "output_type": "stream",
     "text": [
      "\n",
      "\n",
      "processing file: report.rmd\n",
      "\n"
     ]
    },
    {
     "name": "stdout",
     "output_type": "stream",
     "text": [
      "  |..                                                                    |   2%\n",
      "   inline R code fragments\n",
      "\n",
      "  |...                                                                   |   5%\n",
      "label: global_options (with options) \n",
      "List of 1\n",
      " $ include: logi FALSE\n",
      "\n",
      "  |.....                                                                 |   7%\n",
      "  ordinary text without R code\n",
      "\n",
      "  |.......                                                               |  10%\n",
      "label: introduce\n",
      "  |........                                                              |  12%\n",
      "  ordinary text without R code\n",
      "\n",
      "  |..........                                                            |  14%\n",
      "label: plot_intro\n",
      "  |............                                                          |  17%\n",
      "  ordinary text without R code\n",
      "\n",
      "  |.............                                                         |  19%\n",
      "label: data_structure\n",
      "  |...............                                                       |  21%\n",
      "  ordinary text without R code\n",
      "\n",
      "  |.................                                                     |  24%\n",
      "label: missing_profile\n",
      "  |..................                                                    |  26%\n",
      "  ordinary text without R code\n",
      "\n",
      "  |....................                                                  |  29%\n",
      "label: univariate_distribution_header\n",
      "  |......................                                                |  31%\n",
      "  ordinary text without R code\n",
      "\n",
      "  |.......................                                               |  33%\n",
      "label: plot_histogram\n",
      "  |.........................                                             |  36%\n",
      "  ordinary text without R code\n",
      "\n",
      "  |...........................                                           |  38%\n",
      "label: plot_density\n",
      "  |............................                                          |  40%\n",
      "  ordinary text without R code\n",
      "\n",
      "  |..............................                                        |  43%\n",
      "label: plot_frequency_bar\n",
      "  |................................                                      |  45%\n",
      "  ordinary text without R code\n",
      "\n",
      "  |.................................                                     |  48%\n",
      "label: plot_response_bar\n",
      "  |...................................                                   |  50%\n",
      "  ordinary text without R code\n",
      "\n",
      "  |.....................................                                 |  52%\n",
      "label: plot_with_bar\n",
      "  |......................................                                |  55%\n",
      "  ordinary text without R code\n",
      "\n",
      "  |........................................                              |  57%\n",
      "label: plot_normal_qq\n",
      "  |..........................................                            |  60%\n",
      "  ordinary text without R code\n",
      "\n",
      "  |...........................................                           |  62%\n",
      "label: plot_response_qq\n",
      "  |.............................................                         |  64%\n",
      "  ordinary text without R code\n",
      "\n",
      "  |...............................................                       |  67%\n",
      "label: plot_by_qq\n",
      "  |................................................                      |  69%\n",
      "  ordinary text without R code\n",
      "\n",
      "  |..................................................                    |  71%\n",
      "label: correlation_analysis\n",
      "  |....................................................                  |  74%\n",
      "  ordinary text without R code\n",
      "\n",
      "  |.....................................................                 |  76%\n",
      "label: principal_component_analysis\n",
      "  |.......................................................               |  79%\n",
      "  ordinary text without R code\n",
      "\n",
      "  |.........................................................             |  81%\n",
      "label: bivariate_distribution_header\n",
      "  |..........................................................            |  83%\n",
      "  ordinary text without R code\n",
      "\n",
      "  |............................................................          |  86%\n",
      "label: plot_response_boxplot\n",
      "  |..............................................................        |  88%\n",
      "  ordinary text without R code\n",
      "\n",
      "  |...............................................................       |  90%\n",
      "label: plot_by_boxplot\n",
      "  |.................................................................     |  93%\n",
      "  ordinary text without R code\n",
      "\n",
      "  |...................................................................   |  95%\n",
      "label: plot_response_scatterplot\n",
      "  |....................................................................  |  98%\n",
      "  ordinary text without R code\n",
      "\n",
      "  |......................................................................| 100%\n",
      "label: plot_by_scatterplot\n",
      "\n"
     ]
    },
    {
     "name": "stderr",
     "output_type": "stream",
     "text": [
      "output file: C:/Projects/Project 3/report.knit.md\n",
      "\n",
      "\n"
     ]
    },
    {
     "name": "stdout",
     "output_type": "stream",
     "text": [
      "\"C:/PROGRA~1/Pandoc/pandoc\" +RTS -K512m -RTS \"C:/Projects/Project 3/report.knit.md\" --to html4 --from markdown+autolink_bare_uris+tex_math_single_backslash --output pandoc1dbc25117567.html --lua-filter \"C:\\Users\\rajat\\AppData\\Local\\R\\win-library\\4.2\\rmarkdown\\rmarkdown\\lua\\pagebreak.lua\" --lua-filter \"C:\\Users\\rajat\\AppData\\Local\\R\\win-library\\4.2\\rmarkdown\\rmarkdown\\lua\\latex-div.lua\" --embed-resources --standalone --variable bs3=TRUE --section-divs --table-of-contents --toc-depth 6 --template \"C:\\Users\\rajat\\AppData\\Local\\R\\win-library\\4.2\\rmarkdown\\rmd\\h\\default.html\" --no-highlight --variable highlightjs=1 --variable theme=yeti --mathjax --variable \"mathjax-url=https://mathjax.rstudio.com/latest/MathJax.js?config=TeX-AMS-MML_HTMLorMML\" --include-in-header \"C:\\Users\\rajat\\AppData\\Local\\Temp\\RtmpAfRIJ3\\rmarkdown-str1dbc7c59260c.html\" \n"
     ]
    },
    {
     "name": "stderr",
     "output_type": "stream",
     "text": [
      "\n",
      "Output created: report.html\n",
      "\n"
     ]
    }
   ],
   "source": [
    "#EDA Report using DataExplorer\n",
    "create_report(df2)"
   ]
  },
  {
   "cell_type": "markdown",
   "id": "560ff630",
   "metadata": {},
   "source": [
    "#### Data Processing"
   ]
  },
  {
   "cell_type": "code",
   "execution_count": 25,
   "id": "f22c8af6",
   "metadata": {},
   "outputs": [
    {
     "data": {
      "text/html": [
       "<table class=\"dataframe\">\n",
       "<caption>A data.table: 6 × 6</caption>\n",
       "<thead>\n",
       "\t<tr><th scope=col>country_long</th><th scope=col>primary_fuel</th><th scope=col>capacity_mw</th><th scope=col>generation_gwh_2018</th><th scope=col>capacity_gwh</th><th scope=col>Difference</th></tr>\n",
       "\t<tr><th scope=col>&lt;chr&gt;</th><th scope=col>&lt;chr&gt;</th><th scope=col>&lt;dbl&gt;</th><th scope=col>&lt;dbl&gt;</th><th scope=col>&lt;dbl&gt;</th><th scope=col>&lt;dbl&gt;</th></tr>\n",
       "</thead>\n",
       "<tbody>\n",
       "\t<tr><td>Afghanistan</td><td>Hydro</td><td> 238.55</td><td>0</td><td> 2089.698</td><td> 2089.698</td></tr>\n",
       "\t<tr><td>Afghanistan</td><td>Solar</td><td>  20.00</td><td>0</td><td>  175.200</td><td>  175.200</td></tr>\n",
       "\t<tr><td>Afghanistan</td><td>Gas  </td><td>  42.00</td><td>0</td><td>  367.920</td><td>  367.920</td></tr>\n",
       "\t<tr><td>Albania    </td><td>Hydro</td><td>1431.00</td><td>0</td><td>12535.560</td><td>12535.560</td></tr>\n",
       "\t<tr><td>Albania    </td><td>Other</td><td>  98.00</td><td>0</td><td>  858.480</td><td>  858.480</td></tr>\n",
       "\t<tr><td>Algeria    </td><td>Solar</td><td> 670.80</td><td>0</td><td> 5876.208</td><td> 5876.208</td></tr>\n",
       "</tbody>\n",
       "</table>\n"
      ],
      "text/latex": [
       "A data.table: 6 × 6\n",
       "\\begin{tabular}{llllll}\n",
       " country\\_long & primary\\_fuel & capacity\\_mw & generation\\_gwh\\_2018 & capacity\\_gwh & Difference\\\\\n",
       " <chr> & <chr> & <dbl> & <dbl> & <dbl> & <dbl>\\\\\n",
       "\\hline\n",
       "\t Afghanistan & Hydro &  238.55 & 0 &  2089.698 &  2089.698\\\\\n",
       "\t Afghanistan & Solar &   20.00 & 0 &   175.200 &   175.200\\\\\n",
       "\t Afghanistan & Gas   &   42.00 & 0 &   367.920 &   367.920\\\\\n",
       "\t Albania     & Hydro & 1431.00 & 0 & 12535.560 & 12535.560\\\\\n",
       "\t Albania     & Other &   98.00 & 0 &   858.480 &   858.480\\\\\n",
       "\t Algeria     & Solar &  670.80 & 0 &  5876.208 &  5876.208\\\\\n",
       "\\end{tabular}\n"
      ],
      "text/markdown": [
       "\n",
       "A data.table: 6 × 6\n",
       "\n",
       "| country_long &lt;chr&gt; | primary_fuel &lt;chr&gt; | capacity_mw &lt;dbl&gt; | generation_gwh_2018 &lt;dbl&gt; | capacity_gwh &lt;dbl&gt; | Difference &lt;dbl&gt; |\n",
       "|---|---|---|---|---|---|\n",
       "| Afghanistan | Hydro |  238.55 | 0 |  2089.698 |  2089.698 |\n",
       "| Afghanistan | Solar |   20.00 | 0 |   175.200 |   175.200 |\n",
       "| Afghanistan | Gas   |   42.00 | 0 |   367.920 |   367.920 |\n",
       "| Albania     | Hydro | 1431.00 | 0 | 12535.560 | 12535.560 |\n",
       "| Albania     | Other |   98.00 | 0 |   858.480 |   858.480 |\n",
       "| Algeria     | Solar |  670.80 | 0 |  5876.208 |  5876.208 |\n",
       "\n"
      ],
      "text/plain": [
       "  country_long primary_fuel capacity_mw generation_gwh_2018 capacity_gwh\n",
       "1 Afghanistan  Hydro         238.55     0                    2089.698   \n",
       "2 Afghanistan  Solar          20.00     0                     175.200   \n",
       "3 Afghanistan  Gas            42.00     0                     367.920   \n",
       "4 Albania      Hydro        1431.00     0                   12535.560   \n",
       "5 Albania      Other          98.00     0                     858.480   \n",
       "6 Algeria      Solar         670.80     0                    5876.208   \n",
       "  Difference\n",
       "1  2089.698 \n",
       "2   175.200 \n",
       "3   367.920 \n",
       "4 12535.560 \n",
       "5   858.480 \n",
       "6  5876.208 "
      ]
     },
     "metadata": {},
     "output_type": "display_data"
    }
   ],
   "source": [
    "#Converting MW to GWH for comparison\n",
    "df3 <- df2[ ,lapply(.SD,sum), .SDcols = c('capacity_mw','generation_gwh_2018'), by = c(\"country_long\", \"primary_fuel\")]\n",
    "df3$capacity_gwh <- df3$capacity_mw * 24 *365/1000\n",
    "df3$Difference <- df3$capacity_gwh - df3$generation_gwh_2018\n",
    "head(df3)"
   ]
  },
  {
   "cell_type": "code",
   "execution_count": 26,
   "id": "de4951ae",
   "metadata": {},
   "outputs": [],
   "source": [
    "#Pivot up Energy totals\n",
    "energy_totals <- df3[ ,lapply(.SD,sum), .SDcols = c('capacity_gwh'), by = c(\"country_long\")]\n",
    "\n",
    "energy_totals <- energy_totals[order(energy_totals$capacity_gwh, decreasing = TRUE)]"
   ]
  },
  {
   "cell_type": "code",
   "execution_count": 27,
   "id": "e0fe46fe",
   "metadata": {},
   "outputs": [],
   "source": [
    "#Cast a Dataset for all forms of Energy\n",
    "\n",
    "df4 <- dcast(df3, country_long ~ paste0(primary_fuel), fun.aggregate = sum, value.var = \"capacity_gwh\")\n",
    "\n",
    "df4[is.na(df4)] <- 0"
   ]
  },
  {
   "cell_type": "code",
   "execution_count": 28,
   "id": "48f941c8",
   "metadata": {},
   "outputs": [
    {
     "data": {
      "text/html": [
       "<style>\n",
       ".list-inline {list-style: none; margin:0; padding: 0}\n",
       ".list-inline>li {display: inline-block}\n",
       ".list-inline>li:not(:last-child)::after {content: \"\\00b7\"; padding: 0 .5ex}\n",
       "</style>\n",
       "<ol class=list-inline><li>'country_long'</li><li>'Biomass'</li><li>'Coal'</li><li>'Cogeneration'</li><li>'Gas'</li><li>'Geothermal'</li><li>'Hydro'</li><li>'Nuclear'</li><li>'Oil'</li><li>'Other'</li><li>'Petcoke'</li><li>'Solar'</li><li>'Storage'</li><li>'Waste'</li><li>'Wave and Tidal'</li><li>'Wind'</li></ol>\n"
      ],
      "text/latex": [
       "\\begin{enumerate*}\n",
       "\\item 'country\\_long'\n",
       "\\item 'Biomass'\n",
       "\\item 'Coal'\n",
       "\\item 'Cogeneration'\n",
       "\\item 'Gas'\n",
       "\\item 'Geothermal'\n",
       "\\item 'Hydro'\n",
       "\\item 'Nuclear'\n",
       "\\item 'Oil'\n",
       "\\item 'Other'\n",
       "\\item 'Petcoke'\n",
       "\\item 'Solar'\n",
       "\\item 'Storage'\n",
       "\\item 'Waste'\n",
       "\\item 'Wave and Tidal'\n",
       "\\item 'Wind'\n",
       "\\end{enumerate*}\n"
      ],
      "text/markdown": [
       "1. 'country_long'\n",
       "2. 'Biomass'\n",
       "3. 'Coal'\n",
       "4. 'Cogeneration'\n",
       "5. 'Gas'\n",
       "6. 'Geothermal'\n",
       "7. 'Hydro'\n",
       "8. 'Nuclear'\n",
       "9. 'Oil'\n",
       "10. 'Other'\n",
       "11. 'Petcoke'\n",
       "12. 'Solar'\n",
       "13. 'Storage'\n",
       "14. 'Waste'\n",
       "15. 'Wave and Tidal'\n",
       "16. 'Wind'\n",
       "\n",
       "\n"
      ],
      "text/plain": [
       " [1] \"country_long\"   \"Biomass\"        \"Coal\"           \"Cogeneration\"  \n",
       " [5] \"Gas\"            \"Geothermal\"     \"Hydro\"          \"Nuclear\"       \n",
       " [9] \"Oil\"            \"Other\"          \"Petcoke\"        \"Solar\"         \n",
       "[13] \"Storage\"        \"Waste\"          \"Wave and Tidal\" \"Wind\"          "
      ]
     },
     "metadata": {},
     "output_type": "display_data"
    }
   ],
   "source": [
    "names(df4)"
   ]
  },
  {
   "cell_type": "code",
   "execution_count": 29,
   "id": "ab70e92a",
   "metadata": {},
   "outputs": [
    {
     "data": {
      "text/plain": [
       "\n",
       "   Coal     Gas   Hydro Nuclear     Oil   Solar    Wind \n",
       "     28      42      62       3      28       3       1 "
      ]
     },
     "metadata": {},
     "output_type": "display_data"
    }
   ],
   "source": [
    "#Getting Maximum Energy Generating Source of Power\n",
    "\n",
    "df4$Max_Energy <- apply(df4[,2:16], 1, max)\n",
    "df4$Max_Energy_Source <- apply(df4[,2:16], 1, function(row) names(df4[,2:16])[which.max(row)])\n",
    "table(df4$Max_Energy_Source)"
   ]
  },
  {
   "cell_type": "code",
   "execution_count": 30,
   "id": "22ba8b41",
   "metadata": {},
   "outputs": [
    {
     "data": {
      "text/html": [
       "<table class=\"dataframe\">\n",
       "<caption>A data.table: 15 × 3</caption>\n",
       "<thead>\n",
       "\t<tr><th scope=col>primary_fuel</th><th scope=col>capacity_gwh</th><th scope=col>Capacity%</th></tr>\n",
       "\t<tr><th scope=col>&lt;chr&gt;</th><th scope=col>&lt;dbl&gt;</th><th scope=col>&lt;dbl&gt;</th></tr>\n",
       "</thead>\n",
       "<tbody>\n",
       "\t<tr><td>Coal          </td><td>17218139.156</td><td>34.441027787</td></tr>\n",
       "\t<tr><td>Gas           </td><td>13079123.275</td><td>26.161854312</td></tr>\n",
       "\t<tr><td>Hydro         </td><td> 9225678.269</td><td>18.453901362</td></tr>\n",
       "\t<tr><td>Nuclear       </td><td> 3573307.018</td><td> 7.147599701</td></tr>\n",
       "\t<tr><td>Wind          </td><td> 2304350.670</td><td> 4.609336976</td></tr>\n",
       "\t<tr><td>Oil           </td><td> 2294057.496</td><td> 4.588747788</td></tr>\n",
       "\t<tr><td>Solar         </td><td> 1649615.954</td><td> 3.299686940</td></tr>\n",
       "\t<tr><td>Biomass       </td><td>  300304.202</td><td> 0.600691240</td></tr>\n",
       "\t<tr><td>Waste         </td><td>  129198.735</td><td> 0.258433108</td></tr>\n",
       "\t<tr><td>Geothermal    </td><td>  111144.690</td><td> 0.222320038</td></tr>\n",
       "\t<tr><td>Cogeneration  </td><td>   35460.480</td><td> 0.070930741</td></tr>\n",
       "\t<tr><td>Other         </td><td>   31648.654</td><td> 0.063306037</td></tr>\n",
       "\t<tr><td>Petcoke       </td><td>   21239.299</td><td> 0.042484456</td></tr>\n",
       "\t<tr><td>Storage       </td><td>   14999.748</td><td> 0.030003634</td></tr>\n",
       "\t<tr><td>Wave and Tidal</td><td>    4837.272</td><td> 0.009675878</td></tr>\n",
       "</tbody>\n",
       "</table>\n"
      ],
      "text/latex": [
       "A data.table: 15 × 3\n",
       "\\begin{tabular}{lll}\n",
       " primary\\_fuel & capacity\\_gwh & Capacity\\%\\\\\n",
       " <chr> & <dbl> & <dbl>\\\\\n",
       "\\hline\n",
       "\t Coal           & 17218139.156 & 34.441027787\\\\\n",
       "\t Gas            & 13079123.275 & 26.161854312\\\\\n",
       "\t Hydro          &  9225678.269 & 18.453901362\\\\\n",
       "\t Nuclear        &  3573307.018 &  7.147599701\\\\\n",
       "\t Wind           &  2304350.670 &  4.609336976\\\\\n",
       "\t Oil            &  2294057.496 &  4.588747788\\\\\n",
       "\t Solar          &  1649615.954 &  3.299686940\\\\\n",
       "\t Biomass        &   300304.202 &  0.600691240\\\\\n",
       "\t Waste          &   129198.735 &  0.258433108\\\\\n",
       "\t Geothermal     &   111144.690 &  0.222320038\\\\\n",
       "\t Cogeneration   &    35460.480 &  0.070930741\\\\\n",
       "\t Other          &    31648.654 &  0.063306037\\\\\n",
       "\t Petcoke        &    21239.299 &  0.042484456\\\\\n",
       "\t Storage        &    14999.748 &  0.030003634\\\\\n",
       "\t Wave and Tidal &     4837.272 &  0.009675878\\\\\n",
       "\\end{tabular}\n"
      ],
      "text/markdown": [
       "\n",
       "A data.table: 15 × 3\n",
       "\n",
       "| primary_fuel &lt;chr&gt; | capacity_gwh &lt;dbl&gt; | Capacity% &lt;dbl&gt; |\n",
       "|---|---|---|\n",
       "| Coal           | 17218139.156 | 34.441027787 |\n",
       "| Gas            | 13079123.275 | 26.161854312 |\n",
       "| Hydro          |  9225678.269 | 18.453901362 |\n",
       "| Nuclear        |  3573307.018 |  7.147599701 |\n",
       "| Wind           |  2304350.670 |  4.609336976 |\n",
       "| Oil            |  2294057.496 |  4.588747788 |\n",
       "| Solar          |  1649615.954 |  3.299686940 |\n",
       "| Biomass        |   300304.202 |  0.600691240 |\n",
       "| Waste          |   129198.735 |  0.258433108 |\n",
       "| Geothermal     |   111144.690 |  0.222320038 |\n",
       "| Cogeneration   |    35460.480 |  0.070930741 |\n",
       "| Other          |    31648.654 |  0.063306037 |\n",
       "| Petcoke        |    21239.299 |  0.042484456 |\n",
       "| Storage        |    14999.748 |  0.030003634 |\n",
       "| Wave and Tidal |     4837.272 |  0.009675878 |\n",
       "\n"
      ],
      "text/plain": [
       "   primary_fuel   capacity_gwh Capacity%   \n",
       "1  Coal           17218139.156 34.441027787\n",
       "2  Gas            13079123.275 26.161854312\n",
       "3  Hydro           9225678.269 18.453901362\n",
       "4  Nuclear         3573307.018  7.147599701\n",
       "5  Wind            2304350.670  4.609336976\n",
       "6  Oil             2294057.496  4.588747788\n",
       "7  Solar           1649615.954  3.299686940\n",
       "8  Biomass          300304.202  0.600691240\n",
       "9  Waste            129198.735  0.258433108\n",
       "10 Geothermal       111144.690  0.222320038\n",
       "11 Cogeneration      35460.480  0.070930741\n",
       "12 Other             31648.654  0.063306037\n",
       "13 Petcoke           21239.299  0.042484456\n",
       "14 Storage           14999.748  0.030003634\n",
       "15 Wave and Tidal     4837.272  0.009675878"
      ]
     },
     "metadata": {},
     "output_type": "display_data"
    }
   ],
   "source": [
    "summary_energy <- df3[ ,lapply(.SD,sum), .SDcols = c('capacity_gwh'), by = c(\"primary_fuel\")]\n",
    "summary_energy <- summary_energy[order(summary_energy$capacity_gwh,decreasing=TRUE),]\n",
    "\n",
    "summary_energy$`Capacity%` <- summary_energy$capacity_gwh*100/sum(summary_energy$capacity_gwh)\n",
    "\n",
    "(summary_energy)"
   ]
  },
  {
   "cell_type": "code",
   "execution_count": 31,
   "id": "bff8b3e2",
   "metadata": {},
   "outputs": [
    {
     "data": {
      "text/html": [
       "<table class=\"dataframe\">\n",
       "<caption>A data.table: 7 × 2</caption>\n",
       "<thead>\n",
       "\t<tr><th scope=col>Max_Energy_Source</th><th scope=col>country_long</th></tr>\n",
       "\t<tr><th scope=col>&lt;chr&gt;</th><th scope=col>&lt;int&gt;</th></tr>\n",
       "</thead>\n",
       "<tbody>\n",
       "\t<tr><td>Hydro  </td><td>62</td></tr>\n",
       "\t<tr><td>Gas    </td><td>42</td></tr>\n",
       "\t<tr><td>Oil    </td><td>28</td></tr>\n",
       "\t<tr><td>Coal   </td><td>28</td></tr>\n",
       "\t<tr><td>Nuclear</td><td> 3</td></tr>\n",
       "\t<tr><td>Solar  </td><td> 3</td></tr>\n",
       "\t<tr><td>Wind   </td><td> 1</td></tr>\n",
       "</tbody>\n",
       "</table>\n"
      ],
      "text/latex": [
       "A data.table: 7 × 2\n",
       "\\begin{tabular}{ll}\n",
       " Max\\_Energy\\_Source & country\\_long\\\\\n",
       " <chr> & <int>\\\\\n",
       "\\hline\n",
       "\t Hydro   & 62\\\\\n",
       "\t Gas     & 42\\\\\n",
       "\t Oil     & 28\\\\\n",
       "\t Coal    & 28\\\\\n",
       "\t Nuclear &  3\\\\\n",
       "\t Solar   &  3\\\\\n",
       "\t Wind    &  1\\\\\n",
       "\\end{tabular}\n"
      ],
      "text/markdown": [
       "\n",
       "A data.table: 7 × 2\n",
       "\n",
       "| Max_Energy_Source &lt;chr&gt; | country_long &lt;int&gt; |\n",
       "|---|---|\n",
       "| Hydro   | 62 |\n",
       "| Gas     | 42 |\n",
       "| Oil     | 28 |\n",
       "| Coal    | 28 |\n",
       "| Nuclear |  3 |\n",
       "| Solar   |  3 |\n",
       "| Wind    |  1 |\n",
       "\n"
      ],
      "text/plain": [
       "  Max_Energy_Source country_long\n",
       "1 Hydro             62          \n",
       "2 Gas               42          \n",
       "3 Oil               28          \n",
       "4 Coal              28          \n",
       "5 Nuclear            3          \n",
       "6 Solar              3          \n",
       "7 Wind               1          "
      ]
     },
     "metadata": {},
     "output_type": "display_data"
    }
   ],
   "source": [
    "power_plant_cnt <- df4[ ,lapply(.SD,uniqueN), .SDcols = c('country_long'), by = c(\"Max_Energy_Source\")]\n",
    "power_plant_cnt"
   ]
  },
  {
   "cell_type": "markdown",
   "id": "8ab06d79",
   "metadata": {},
   "source": [
    "#### Data Visualizations"
   ]
  },
  {
   "cell_type": "code",
   "execution_count": 32,
   "id": "23ccc9e0",
   "metadata": {},
   "outputs": [
    {
     "data": {
      "image/png": "[encoded data removed]",
      "text/plain": [
       "plot without title"
      ]
     },
     "metadata": {
      "image/png": {
       "height": 420,
       "width": 420
      }
     },
     "output_type": "display_data"
    }
   ],
   "source": [
    "#Bar Plot Showcasing Major Power Sources \n",
    "\n",
    "ggplot(summary_energy, aes(x=reorder(primary_fuel, +capacity_gwh), y=capacity_gwh)) + \n",
    "  geom_bar(stat = \"identity\", fill=\"blue\", alpha=.6, width=.8) +\n",
    "  coord_flip()"
   ]
  },
  {
   "cell_type": "code",
   "execution_count": 33,
   "id": "f6b6afcc",
   "metadata": {},
   "outputs": [
    {
     "data": {
      "image/png": "[encoded data removed]",
      "text/plain": [
       "plot without title"
      ]
     },
     "metadata": {
      "image/png": {
       "height": 420,
       "width": 420
      }
     },
     "output_type": "display_data"
    }
   ],
   "source": [
    "# Stacked Bar Chart of Top 20 Energy Consuming Nations\n",
    "\n",
    "ggplot(df3[country_long %in% energy_totals[1:20]$country_long], aes(fill=primary_fuel, y=capacity_gwh, x=country_long)) + \n",
    "    geom_bar(position=\"stack\", stat=\"identity\")+\n",
    "    coord_flip()"
   ]
  },
  {
   "cell_type": "code",
   "execution_count": 34,
   "id": "6a3c9279",
   "metadata": {},
   "outputs": [
    {
     "data": {
      "image/png": "[encoded data removed]",
      "text/plain": [
       "plot without title"
      ]
     },
     "metadata": {
      "image/png": {
       "height": 420,
       "width": 420
      }
     },
     "output_type": "display_data"
    }
   ],
   "source": [
    "#All Power Plants around thw world\n",
    "\n",
    "world_map <- map_data(\"world\")\n",
    "\n",
    "world_plot <- ggplot() +\n",
    "  geom_polygon(data = world_map, aes(x = long, y = lat, group = group), color = \"black\", fill = \"white\") +\n",
    "  coord_fixed(1.3) +\n",
    "  theme()\n",
    "\n",
    "world_plot_with_points <- world_plot +\n",
    "  geom_point(data = df1, aes(x = longitude, y = latitude, color = primary_fuel), size = 1) +\n",
    "  labs(title = \"Locations on World Map\")\n",
    "\n",
    "world_plot_with_points\n"
   ]
  },
  {
   "cell_type": "code",
   "execution_count": 35,
   "id": "4713ecd6",
   "metadata": {},
   "outputs": [
    {
     "data": {
      "image/png": "[encoded data removed]",
      "text/plain": [
       "plot without title"
      ]
     },
     "metadata": {
      "image/png": {
       "height": 420,
       "width": 420
      }
     },
     "output_type": "display_data"
    }
   ],
   "source": [
    "#Power Plants of India Mapped\n",
    "\n",
    "india_map <- map_data(\"world\", region = \"India\")\n",
    "\n",
    "india_plot <- ggplot() +\n",
    "  geom_polygon(data = india_map, aes(x = long, y = lat, group = group), color = \"black\", fill = \"white\") +\n",
    "  coord_fixed(1.3) + \n",
    "  theme_void()\n",
    "\n",
    "india_plot_with_points <- india_plot +\n",
    "  geom_point(data = df1[country_long == \"India\"], aes(x = longitude, y = latitude, color = primary_fuel), size = 3) +\n",
    "  labs(title = \"Locations on India Map\")\n",
    "\n",
    "india_plot_with_points\n"
   ]
  },
  {
   "cell_type": "code",
   "execution_count": 36,
   "id": "2addf030",
   "metadata": {},
   "outputs": [
    {
     "data": {
      "image/png": "[encoded data removed]",
      "text/plain": [
       "plot without title"
      ]
     },
     "metadata": {
      "image/png": {
       "height": 420,
       "width": 420
      }
     },
     "output_type": "display_data"
    }
   ],
   "source": [
    "#Major Source of Electricity around the world\n",
    "\n",
    "world <- map_data(\"world\")\n",
    "\n",
    "world %>%\n",
    "  merge(df4, by.x = \"region\", by.y = \"country_long\", all.x = T) %>%\n",
    "  arrange(group, order) %>%\n",
    "  ggplot(aes(x = long, y = lat, group = group, fill = Max_Energy_Source)) + \n",
    "  coord_fixed(1.3) +  # To keep the aspect ratio close to a sphere\n",
    "  geom_polygon()"
   ]
  },
  {
   "cell_type": "code",
   "execution_count": 37,
   "id": "e33246f0",
   "metadata": {},
   "outputs": [
    {
     "data": {
      "image/png": "[encoded data removed]",
      "text/plain": [
       "plot without title"
      ]
     },
     "metadata": {
      "image/png": {
       "height": 420,
       "width": 420
      }
     },
     "output_type": "display_data"
    }
   ],
   "source": [
    "#Major Power Sources in Different Countries\n",
    "ggplot(power_plant_cnt, aes(x=reorder(Max_Energy_Source, +country_long), y=country_long)) + \n",
    "  geom_bar(stat = \"identity\", fill=\"red\", alpha=.6, width=.8) +\n",
    "  coord_flip()"
   ]
  },
  {
   "cell_type": "code",
   "execution_count": null,
   "id": "76ef1da3",
   "metadata": {},
   "outputs": [],
   "source": []
  },
  {
   "cell_type": "code",
   "execution_count": null,
   "id": "f8d84967",
   "metadata": {},
   "outputs": [],
   "source": []
  }
 ],
 "metadata": {
  "hide_input": false,
  "kernelspec": {
   "display_name": "R",
   "language": "R",
   "name": "ir"
  },
  "language_info": {
   "codemirror_mode": "r",
   "file_extension": ".r",
   "mimetype": "text/x-r-source",
   "name": "R",
   "pygments_lexer": "r",
   "version": "4.2.2"
  }
 },
 "nbformat": 4,
 "nbformat_minor": 5
}
